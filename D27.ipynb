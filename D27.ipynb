{
  "nbformat": 4,
  "nbformat_minor": 0,
  "metadata": {
    "colab": {
      "name": "D27.ipynb",
      "provenance": [],
      "collapsed_sections": [],
      "toc_visible": true,
      "authorship_tag": "ABX9TyOly68NDaKhsNdI/HRtz8nw",
      "include_colab_link": true
    },
    "kernelspec": {
      "name": "python3",
      "display_name": "Python 3"
    },
    "language_info": {
      "name": "python"
    }
  },
  "cells": [
    {
      "cell_type": "markdown",
      "metadata": {
        "id": "view-in-github",
        "colab_type": "text"
      },
      "source": [
        "<a href=\"https://colab.research.google.com/github/nanmanay/Python/blob/main/D27.ipynb\" target=\"_parent\"><img src=\"https://colab.research.google.com/assets/colab-badge.svg\" alt=\"Open In Colab\"/></a>"
      ]
    },
    {
      "cell_type": "code",
      "execution_count": null,
      "metadata": {
        "colab": {
          "base_uri": "https://localhost:8080/"
        },
        "id": "jq6S8zDQgNB0",
        "outputId": "139389b3-3df5-4c90-ec79-ee60102650f9"
      },
      "outputs": [
        {
          "output_type": "stream",
          "name": "stdout",
          "text": [
            "Hello D27!\n"
          ]
        }
      ],
      "source": [
        "print(\"Hello D27!\")"
      ]
    },
    {
      "cell_type": "code",
      "source": [
        "import this"
      ],
      "metadata": {
        "colab": {
          "base_uri": "https://localhost:8080/"
        },
        "id": "wGrJC0r4laij",
        "outputId": "f05a6db2-66ab-40ed-d249-864a049ed396"
      },
      "execution_count": null,
      "outputs": [
        {
          "output_type": "stream",
          "name": "stdout",
          "text": [
            "The Zen of Python, by Tim Peters\n",
            "\n",
            "Beautiful is better than ugly.\n",
            "Explicit is better than implicit.\n",
            "Simple is better than complex.\n",
            "Complex is better than complicated.\n",
            "Flat is better than nested.\n",
            "Sparse is better than dense.\n",
            "Readability counts.\n",
            "Special cases aren't special enough to break the rules.\n",
            "Although practicality beats purity.\n",
            "Errors should never pass silently.\n",
            "Unless explicitly silenced.\n",
            "In the face of ambiguity, refuse the temptation to guess.\n",
            "There should be one-- and preferably only one --obvious way to do it.\n",
            "Although that way may not be obvious at first unless you're Dutch.\n",
            "Now is better than never.\n",
            "Although never is often better than *right* now.\n",
            "If the implementation is hard to explain, it's a bad idea.\n",
            "If the implementation is easy to explain, it may be a good idea.\n",
            "Namespaces are one honking great idea -- let's do more of those!\n"
          ]
        }
      ]
    },
    {
      "cell_type": "code",
      "source": [
        "A = [\n",
        "     [1,1],\n",
        "     [0,0]\n",
        "]"
      ],
      "metadata": {
        "id": "W-DJg_x9mDLr"
      },
      "execution_count": null,
      "outputs": []
    },
    {
      "cell_type": "code",
      "source": [
        "print(A)"
      ],
      "metadata": {
        "colab": {
          "base_uri": "https://localhost:8080/"
        },
        "id": "_YJoHgWWtX4v",
        "outputId": "2351989c-d246-4d8d-ddcb-f0a0efaf5672"
      },
      "execution_count": null,
      "outputs": [
        {
          "output_type": "stream",
          "name": "stdout",
          "text": [
            "[[1, 1], [0, 0]]\n"
          ]
        }
      ]
    },
    {
      "cell_type": "code",
      "source": [
        "B = A*2"
      ],
      "metadata": {
        "id": "a35aeaultZaw"
      },
      "execution_count": null,
      "outputs": []
    },
    {
      "cell_type": "code",
      "source": [
        "print(B)"
      ],
      "metadata": {
        "colab": {
          "base_uri": "https://localhost:8080/"
        },
        "id": "UgkKhhbDtgmy",
        "outputId": "5fb41c90-119c-49cf-f85b-ce0533f178dd"
      },
      "execution_count": null,
      "outputs": [
        {
          "output_type": "stream",
          "name": "stdout",
          "text": [
            "[[1, 1], [0, 0], [1, 1], [0, 0]]\n"
          ]
        }
      ]
    },
    {
      "cell_type": "code",
      "source": [
        "C = A*3"
      ],
      "metadata": {
        "id": "xWEV3v-bth6a"
      },
      "execution_count": null,
      "outputs": []
    },
    {
      "cell_type": "code",
      "source": [
        "print(C)"
      ],
      "metadata": {
        "colab": {
          "base_uri": "https://localhost:8080/"
        },
        "id": "g4Ls5BbHtlxy",
        "outputId": "ce7f8a0a-899e-4b68-d244-ec94254ded79"
      },
      "execution_count": null,
      "outputs": [
        {
          "output_type": "stream",
          "name": "stdout",
          "text": [
            "[[1, 1], [0, 0], [1, 1], [0, 0], [1, 1], [0, 0]]\n"
          ]
        }
      ]
    },
    {
      "cell_type": "code",
      "source": [
        "D = A*A"
      ],
      "metadata": {
        "colab": {
          "base_uri": "https://localhost:8080/",
          "height": 165
        },
        "id": "hE-hst8ktnTs",
        "outputId": "f56b291f-e5ca-4d06-f1fb-00e270cf3afe"
      },
      "execution_count": null,
      "outputs": [
        {
          "output_type": "error",
          "ename": "TypeError",
          "evalue": "ignored",
          "traceback": [
            "\u001b[0;31m---------------------------------------------------------------------------\u001b[0m",
            "\u001b[0;31mTypeError\u001b[0m                                 Traceback (most recent call last)",
            "\u001b[0;32m<ipython-input-16-98152319a4ea>\u001b[0m in \u001b[0;36m<module>\u001b[0;34m()\u001b[0m\n\u001b[0;32m----> 1\u001b[0;31m \u001b[0mD\u001b[0m \u001b[0;34m=\u001b[0m \u001b[0mA\u001b[0m\u001b[0;34m*\u001b[0m\u001b[0mA\u001b[0m\u001b[0;34m\u001b[0m\u001b[0;34m\u001b[0m\u001b[0m\n\u001b[0m",
            "\u001b[0;31mTypeError\u001b[0m: can't multiply sequence by non-int of type 'list'"
          ]
        }
      ]
    },
    {
      "cell_type": "code",
      "source": [
        "res_list = [A[i][i] * A[i][i] for i in range(len(A))]"
      ],
      "metadata": {
        "id": "GvhyIMZztvsB"
      },
      "execution_count": null,
      "outputs": []
    },
    {
      "cell_type": "code",
      "source": [
        "python -v"
      ],
      "metadata": {
        "colab": {
          "base_uri": "https://localhost:8080/",
          "height": 165
        },
        "id": "ff2MhfvpdEz9",
        "outputId": "afd74d96-c710-4937-8cd2-044670e924a9"
      },
      "execution_count": null,
      "outputs": [
        {
          "output_type": "error",
          "ename": "NameError",
          "evalue": "ignored",
          "traceback": [
            "\u001b[0;31m---------------------------------------------------------------------------\u001b[0m",
            "\u001b[0;31mNameError\u001b[0m                                 Traceback (most recent call last)",
            "\u001b[0;32m<ipython-input-1-4c1899a86226>\u001b[0m in \u001b[0;36m<module>\u001b[0;34m()\u001b[0m\n\u001b[0;32m----> 1\u001b[0;31m \u001b[0mpython\u001b[0m \u001b[0;34m-\u001b[0m\u001b[0mv\u001b[0m\u001b[0;34m\u001b[0m\u001b[0;34m\u001b[0m\u001b[0m\n\u001b[0m",
            "\u001b[0;31mNameError\u001b[0m: name 'python' is not defined"
          ]
        }
      ]
    },
    {
      "cell_type": "code",
      "source": [
        "print(res_list)"
      ],
      "metadata": {
        "colab": {
          "base_uri": "https://localhost:8080/"
        },
        "id": "yi0V7Jxav-Ae",
        "outputId": "b5b92b23-3ba2-40a3-eff5-f1a9f682b77e"
      },
      "execution_count": null,
      "outputs": [
        {
          "output_type": "stream",
          "name": "stdout",
          "text": [
            "[1, 0]\n"
          ]
        }
      ]
    },
    {
      "cell_type": "code",
      "source": [
        "Python -V"
      ],
      "metadata": {
        "colab": {
          "base_uri": "https://localhost:8080/",
          "height": 165
        },
        "id": "19i89FRVdIK8",
        "outputId": "f29fda21-1985-40a1-c682-427631ad4d6c"
      },
      "execution_count": null,
      "outputs": [
        {
          "output_type": "error",
          "ename": "NameError",
          "evalue": "ignored",
          "traceback": [
            "\u001b[0;31m---------------------------------------------------------------------------\u001b[0m",
            "\u001b[0;31mNameError\u001b[0m                                 Traceback (most recent call last)",
            "\u001b[0;32m<ipython-input-2-bfbd2dfdf1e8>\u001b[0m in \u001b[0;36m<module>\u001b[0;34m()\u001b[0m\n\u001b[0;32m----> 1\u001b[0;31m \u001b[0mPython\u001b[0m \u001b[0;34m-\u001b[0m\u001b[0mV\u001b[0m\u001b[0;34m\u001b[0m\u001b[0;34m\u001b[0m\u001b[0m\n\u001b[0m",
            "\u001b[0;31mNameError\u001b[0m: name 'Python' is not defined"
          ]
        }
      ]
    },
    {
      "cell_type": "code",
      "source": [
        "!Python -V"
      ],
      "metadata": {
        "colab": {
          "base_uri": "https://localhost:8080/"
        },
        "id": "UpT4O52DdKaK",
        "outputId": "44fce7f3-5c4c-42d9-8aee-e7adced429a9"
      },
      "execution_count": null,
      "outputs": [
        {
          "output_type": "stream",
          "name": "stdout",
          "text": [
            "/bin/bash: Python: command not found\n"
          ]
        }
      ]
    },
    {
      "cell_type": "code",
      "source": [
        "!python -V"
      ],
      "metadata": {
        "colab": {
          "base_uri": "https://localhost:8080/"
        },
        "id": "BS6fEzjBdOf5",
        "outputId": "e6c4310b-b8df-4ea2-c51c-13171f667e49"
      },
      "execution_count": null,
      "outputs": [
        {
          "output_type": "stream",
          "name": "stdout",
          "text": [
            "Python 3.7.12\n"
          ]
        }
      ]
    },
    {
      "cell_type": "code",
      "source": [
        "1+1"
      ],
      "metadata": {
        "colab": {
          "base_uri": "https://localhost:8080/"
        },
        "id": "WVYlerBndVds",
        "outputId": "8d5dc877-8c74-4a61-b457-a9f640eb385d"
      },
      "execution_count": null,
      "outputs": [
        {
          "output_type": "execute_result",
          "data": {
            "text/plain": [
              "2"
            ]
          },
          "metadata": {},
          "execution_count": 6
        }
      ]
    },
    {
      "cell_type": "code",
      "source": [
        "1+2*3"
      ],
      "metadata": {
        "colab": {
          "base_uri": "https://localhost:8080/"
        },
        "id": "3YdKF40qdlfB",
        "outputId": "7cb2aa58-8c9d-41af-825f-1bc0d3f5cbd9"
      },
      "execution_count": null,
      "outputs": [
        {
          "output_type": "execute_result",
          "data": {
            "text/plain": [
              "7"
            ]
          },
          "metadata": {},
          "execution_count": 7
        }
      ]
    },
    {
      "cell_type": "code",
      "source": [
        "(1+2)*3"
      ],
      "metadata": {
        "colab": {
          "base_uri": "https://localhost:8080/"
        },
        "id": "fP-_1dyddons",
        "outputId": "cf7642fc-ccb2-4abe-dc6d-115c3612f5be"
      },
      "execution_count": null,
      "outputs": [
        {
          "output_type": "execute_result",
          "data": {
            "text/plain": [
              "9"
            ]
          },
          "metadata": {},
          "execution_count": 8
        }
      ]
    },
    {
      "cell_type": "code",
      "source": [
        "4-40-3"
      ],
      "metadata": {
        "colab": {
          "base_uri": "https://localhost:8080/"
        },
        "id": "Ja6SJidEdwQO",
        "outputId": "294603d3-0dc9-4e1f-fab0-140547534322"
      },
      "execution_count": null,
      "outputs": [
        {
          "output_type": "execute_result",
          "data": {
            "text/plain": [
              "-39"
            ]
          },
          "metadata": {},
          "execution_count": 9
        }
      ]
    },
    {
      "cell_type": "code",
      "source": [
        "4-(40-3)"
      ],
      "metadata": {
        "colab": {
          "base_uri": "https://localhost:8080/"
        },
        "id": "iJoy83e-dzim",
        "outputId": "abca5ea8-c186-42c1-d677-79cdad64122b"
      },
      "execution_count": null,
      "outputs": [
        {
          "output_type": "execute_result",
          "data": {
            "text/plain": [
              "-33"
            ]
          },
          "metadata": {},
          "execution_count": 10
        }
      ]
    },
    {
      "cell_type": "code",
      "source": [
        "a=int(input(\"Enter a\"))\n",
        "if (a==1):\n",
        "    print(\"a is one\")\n",
        "else:\n",
        "    print(\"a is not one\")"
      ],
      "metadata": {
        "colab": {
          "base_uri": "https://localhost:8080/"
        },
        "id": "JVmLKmd2d4cm",
        "outputId": "e523d0bf-6aff-4bb5-dcaf-4e8e9c0a6eb2"
      },
      "execution_count": null,
      "outputs": [
        {
          "output_type": "stream",
          "name": "stdout",
          "text": [
            "Enter a2\n",
            "a is not one\n"
          ]
        }
      ]
    },
    {
      "cell_type": "code",
      "source": [
        "gender = input(\"Enter gender\")\n",
        "morbidity = input(\"Any other morbidity\")\n",
        "bmi = float(input(\"Enter the BMI\"))\n",
        "\n",
        "if(gender == \"male\"):\n",
        "    if(morbidity == \"no\"):\n",
        "        if(bmi>= 19 and bmi<= 25):\n",
        "            print(\"Go Home\")\n",
        "        else:\n",
        "            print(\"Take consultation\")\n",
        "    else:\n",
        "        print(\"Take consultation\")\n",
        "elif(gender == \"female\"):\n",
        "    if(morbidity == \"no\"):\n",
        "        if(bmi>= 19 and bmi<= 25):\n",
        "            print(\"Go Home\")\n",
        "        else:\n",
        "            print(\"Take consultation\")\n",
        "    else:\n",
        "        print(\"Take consultation\")\n",
        "else:\n",
        "    print(\"Invalid data\")\n"
      ],
      "metadata": {
        "colab": {
          "base_uri": "https://localhost:8080/"
        },
        "id": "EE1dcD1dlkTU",
        "outputId": "0703f95c-37c9-402b-aa69-452059909a95"
      },
      "execution_count": null,
      "outputs": [
        {
          "output_type": "stream",
          "name": "stdout",
          "text": [
            "Enter genderfemale\n",
            "Any other morbidityyes\n",
            "Enter the BMI5\n",
            "Take consultation\n"
          ]
        }
      ]
    },
    {
      "cell_type": "code",
      "source": [
        "a = 0\n",
        "while (a<=10):\n",
        "    print(a)\n",
        "    a = a + 1"
      ],
      "metadata": {
        "colab": {
          "base_uri": "https://localhost:8080/"
        },
        "id": "MzUxZa29VUUy",
        "outputId": "aae77cee-0571-49e2-d926-b396f34c703a"
      },
      "execution_count": null,
      "outputs": [
        {
          "output_type": "stream",
          "name": "stdout",
          "text": [
            "0\n",
            "1\n",
            "2\n",
            "3\n",
            "4\n",
            "5\n",
            "6\n",
            "7\n",
            "8\n",
            "9\n"
          ]
        }
      ]
    },
    {
      "cell_type": "code",
      "source": [
        "a = int(input())\n",
        "exp = 10\n",
        "while (exp<=10):\n",
        "    print(a**exp)\n",
        "    exp = exp + 1\n"
      ],
      "metadata": {
        "colab": {
          "base_uri": "https://localhost:8080/"
        },
        "id": "B4_KqupAV7o0",
        "outputId": "1fed0fa8-e514-434d-a53b-cf8b661f11ca"
      },
      "execution_count": null,
      "outputs": [
        {
          "output_type": "stream",
          "name": "stdout",
          "text": [
            "2\n",
            "1024\n"
          ]
        }
      ]
    },
    {
      "cell_type": "code",
      "source": [
        "i = 1\n",
        "while i < 6:\n",
        "    print(i)\n",
        "    if i ==3:\n",
        "        break\n",
        "    i += 1"
      ],
      "metadata": {
        "colab": {
          "base_uri": "https://localhost:8080/"
        },
        "id": "fOoptL96W3t8",
        "outputId": "cafe3de6-1fb4-4aaa-811f-905ab3562fb2"
      },
      "execution_count": null,
      "outputs": [
        {
          "output_type": "stream",
          "name": "stdout",
          "text": [
            "1\n",
            "2\n",
            "3\n"
          ]
        }
      ]
    },
    {
      "cell_type": "code",
      "source": [
        "i = 0\n",
        "while i < 6:\n",
        "    i+= 1\n",
        "    if i ==3:\n",
        "        continue\n",
        "    print(i)\n"
      ],
      "metadata": {
        "colab": {
          "base_uri": "https://localhost:8080/"
        },
        "id": "IiR-dQ59XQx6",
        "outputId": "b17d6f8a-001c-4b03-fb7b-bded24c6fd9d"
      },
      "execution_count": null,
      "outputs": [
        {
          "output_type": "stream",
          "name": "stdout",
          "text": [
            "1\n",
            "2\n",
            "4\n",
            "5\n",
            "6\n"
          ]
        }
      ]
    },
    {
      "cell_type": "code",
      "source": [
        "for x in range(7):\n",
        "    print(x)"
      ],
      "metadata": {
        "colab": {
          "base_uri": "https://localhost:8080/"
        },
        "id": "TW6yYhA0Ze80",
        "outputId": "00b6c9f7-eb34-4b51-c845-db9350fa53d2"
      },
      "execution_count": null,
      "outputs": [
        {
          "output_type": "stream",
          "name": "stdout",
          "text": [
            "0\n",
            "1\n",
            "2\n",
            "3\n",
            "4\n",
            "5\n",
            "6\n"
          ]
        }
      ]
    },
    {
      "cell_type": "code",
      "source": [
        "for x in range(2,6):\n",
        "    print(x)"
      ],
      "metadata": {
        "colab": {
          "base_uri": "https://localhost:8080/"
        },
        "id": "tBs4uyEJgZna",
        "outputId": "2ad401d5-92c8-42f2-a421-bd5cb0fde68b"
      },
      "execution_count": null,
      "outputs": [
        {
          "output_type": "stream",
          "name": "stdout",
          "text": [
            "2\n",
            "3\n",
            "4\n",
            "5\n"
          ]
        }
      ]
    },
    {
      "cell_type": "code",
      "source": [
        "for x in range(-1,-30,-1):\n",
        "    print(x)"
      ],
      "metadata": {
        "colab": {
          "base_uri": "https://localhost:8080/"
        },
        "id": "xGy9RoZ1ggFH",
        "outputId": "430f302e-e947-40b9-ce39-a93c4c673bf2"
      },
      "execution_count": null,
      "outputs": [
        {
          "output_type": "stream",
          "name": "stdout",
          "text": [
            "-1\n",
            "-2\n",
            "-3\n",
            "-4\n",
            "-5\n",
            "-6\n",
            "-7\n",
            "-8\n",
            "-9\n",
            "-10\n",
            "-11\n",
            "-12\n",
            "-13\n",
            "-14\n",
            "-15\n",
            "-16\n",
            "-17\n",
            "-18\n",
            "-19\n",
            "-20\n",
            "-21\n",
            "-22\n",
            "-23\n",
            "-24\n",
            "-25\n",
            "-26\n",
            "-27\n",
            "-28\n",
            "-29\n"
          ]
        }
      ]
    },
    {
      "cell_type": "code",
      "source": [
        ""
      ],
      "metadata": {
        "id": "6-iu_dcQhOit"
      },
      "execution_count": null,
      "outputs": []
    },
    {
      "cell_type": "code",
      "source": [
        "company_name = \"D27\"\n",
        "emp_count = 25\n",
        "salary_month = \"January\"\n",
        "salary_year = 2022\n",
        "per_day_salary = 1000\n",
        "total_num_of_days = 31\n",
        "#weekend = \"1,2,8,9,15,16,22,23,29,30\"\n",
        "total_salary = 0\n",
        "i = 1\n",
        "while i <= 31:\n",
        "    total_salary += 1000\n",
        "    print(i,total_salary)\n",
        "    i = i + 1\n",
        "    if (i == 1 or i == 2 or i ==8 or i==9 or i==15 or i==16 or i==22 or i==23 or i==29 or i==30):\n",
        "        continue\n",
        "\n",
        "print(company_name,salary_year,salary_month,total_salary)\n",
        "\n",
        "\n",
        "\n",
        "\n",
        "\n"
      ],
      "metadata": {
        "colab": {
          "base_uri": "https://localhost:8080/"
        },
        "id": "guQdQIUehr-q",
        "outputId": "53b21e17-ac2c-4964-e6d3-a5806a35dd91"
      },
      "execution_count": null,
      "outputs": [
        {
          "output_type": "stream",
          "name": "stdout",
          "text": [
            "1 1000\n",
            "2 2000\n",
            "3 3000\n",
            "4 4000\n",
            "5 5000\n",
            "6 6000\n",
            "7 7000\n",
            "8 8000\n",
            "9 9000\n",
            "10 10000\n",
            "11 11000\n",
            "12 12000\n",
            "13 13000\n",
            "14 14000\n",
            "15 15000\n",
            "16 16000\n",
            "17 17000\n",
            "18 18000\n",
            "19 19000\n",
            "20 20000\n",
            "21 21000\n",
            "22 22000\n",
            "23 23000\n",
            "24 24000\n",
            "25 25000\n",
            "26 26000\n",
            "27 27000\n",
            "28 28000\n",
            "29 29000\n",
            "30 30000\n",
            "31 31000\n",
            "D27 2022 January 31000\n"
          ]
        }
      ]
    },
    {
      "cell_type": "code",
      "source": [
        "a = 5\n",
        "print(type(a))"
      ],
      "metadata": {
        "colab": {
          "base_uri": "https://localhost:8080/"
        },
        "id": "qmi6-3gqeQfy",
        "outputId": "bec8d2b3-6e8b-475c-c831-9360957c86d4"
      },
      "execution_count": null,
      "outputs": [
        {
          "output_type": "stream",
          "name": "stdout",
          "text": [
            "<class 'int'>\n"
          ]
        }
      ]
    },
    {
      "cell_type": "code",
      "source": [
        "a = 1+2j\n",
        "isinstance(1+2j,complex)"
      ],
      "metadata": {
        "colab": {
          "base_uri": "https://localhost:8080/"
        },
        "id": "YzLe4FtFe_PM",
        "outputId": "96ac54ed-4f72-4b08-c1f8-d296e123274b"
      },
      "execution_count": null,
      "outputs": [
        {
          "output_type": "execute_result",
          "data": {
            "text/plain": [
              "True"
            ]
          },
          "metadata": {},
          "execution_count": 24
        }
      ]
    },
    {
      "cell_type": "code",
      "source": [
        "b = 2.0\n",
        "type(b)"
      ],
      "metadata": {
        "colab": {
          "base_uri": "https://localhost:8080/"
        },
        "id": "ViO7TQubeWrQ",
        "outputId": "65383284-89fa-4ae4-e7ce-be66b457faeb"
      },
      "execution_count": null,
      "outputs": [
        {
          "output_type": "execute_result",
          "data": {
            "text/plain": [
              "float"
            ]
          },
          "metadata": {},
          "execution_count": 25
        }
      ]
    },
    {
      "cell_type": "code",
      "source": [
        "a = [5,10,15,20,25,30,35,40]\n",
        "a[::-1]"
      ],
      "metadata": {
        "colab": {
          "base_uri": "https://localhost:8080/"
        },
        "id": "NiYojg8OhRpn",
        "outputId": "69153be0-8e88-4498-d14f-4d613b52953a"
      },
      "execution_count": null,
      "outputs": [
        {
          "output_type": "execute_result",
          "data": {
            "text/plain": [
              "[40, 35, 30, 25, 20, 15, 10, 5]"
            ]
          },
          "metadata": {},
          "execution_count": 33
        }
      ]
    },
    {
      "cell_type": "code",
      "source": [
        "a=[1,2,3]\n",
        "a[2] = 4\n",
        "print(a)"
      ],
      "metadata": {
        "colab": {
          "base_uri": "https://localhost:8080/"
        },
        "id": "CaQOk4gziVwI",
        "outputId": "95533172-5d38-430b-fbdf-ef1a9fdcd1f5"
      },
      "execution_count": null,
      "outputs": [
        {
          "output_type": "stream",
          "name": "stdout",
          "text": [
            "[1, 2, 4]\n"
          ]
        }
      ]
    },
    {
      "cell_type": "code",
      "source": [
        "Lst = []\n",
        "Lst.append(1)\n",
        "Lst.append(2)\n",
        "Lst.append(4)\n",
        "print(Lst)"
      ],
      "metadata": {
        "colab": {
          "base_uri": "https://localhost:8080/"
        },
        "id": "czLruSUaioSd",
        "outputId": "c7e877f3-be85-4873-ccb7-17b6f0378584"
      },
      "execution_count": null,
      "outputs": [
        {
          "output_type": "stream",
          "name": "stdout",
          "text": [
            "[1, 2, 4]\n"
          ]
        }
      ]
    },
    {
      "cell_type": "code",
      "source": [
        "fruit = ['apple','orange']\n",
        "print(fruit)\n",
        "Lst.append(fruit)\n",
        "print(Lst)"
      ],
      "metadata": {
        "colab": {
          "base_uri": "https://localhost:8080/"
        },
        "id": "EbLUkyTti7kk",
        "outputId": "68b385df-41aa-412f-8372-a373d1ea2ff8"
      },
      "execution_count": null,
      "outputs": [
        {
          "output_type": "stream",
          "name": "stdout",
          "text": [
            "['apple', 'orange']\n",
            "[1, 2, 4, ['apple', 'orange'], ['apple', 'orange'], ['apple', 'orange'], ['apple', 'orange']]\n"
          ]
        }
      ]
    },
    {
      "cell_type": "code",
      "source": [
        "print(Lst[3][1])"
      ],
      "metadata": {
        "colab": {
          "base_uri": "https://localhost:8080/"
        },
        "id": "osSiOJNOkYxj",
        "outputId": "11cb4ef6-560a-44f9-9526-ef737819c68f"
      },
      "execution_count": null,
      "outputs": [
        {
          "output_type": "stream",
          "name": "stdout",
          "text": [
            "orange\n"
          ]
        }
      ]
    },
    {
      "cell_type": "code",
      "source": [
        "clothes = ['pants','shirts']\n",
        "fruit.extend(clothes)\n",
        "print(fruit)"
      ],
      "metadata": {
        "colab": {
          "base_uri": "https://localhost:8080/"
        },
        "id": "YDvJm7N2kwE-",
        "outputId": "e88b17fa-01a2-4fab-8811-65a3ede211f1"
      },
      "execution_count": null,
      "outputs": [
        {
          "output_type": "stream",
          "name": "stdout",
          "text": [
            "['apple', 'orange', 'pants', 'shirts', 'pants', 'shirts']\n"
          ]
        }
      ]
    },
    {
      "cell_type": "code",
      "source": [
        "fruit.append(clothes)\n",
        "print(fruit)"
      ],
      "metadata": {
        "colab": {
          "base_uri": "https://localhost:8080/"
        },
        "id": "qqdzKmrYmtvw",
        "outputId": "9a58e181-56c2-4a32-e09b-0822f8fc776c"
      },
      "execution_count": null,
      "outputs": [
        {
          "output_type": "stream",
          "name": "stdout",
          "text": [
            "['apple', 'orange', 'pants', 'shirts', 'pants', 'shirts', ['pants', 'shirts'], ['pants', 'shirts']]\n"
          ]
        }
      ]
    },
    {
      "cell_type": "code",
      "source": [
        "Listx = list(input())"
      ],
      "metadata": {
        "colab": {
          "base_uri": "https://localhost:8080/"
        },
        "id": "7iy7fW67m1X5",
        "outputId": "ac7ab98a-6c38-415a-c074-2159d9a0ab9a"
      },
      "execution_count": null,
      "outputs": [
        {
          "name": "stdout",
          "output_type": "stream",
          "text": [
            "1\n"
          ]
        }
      ]
    },
    {
      "cell_type": "code",
      "source": [
        "print(Listx)"
      ],
      "metadata": {
        "colab": {
          "base_uri": "https://localhost:8080/"
        },
        "id": "Vi_iHCYenCJ1",
        "outputId": "4f5dba19-d103-4e65-cd17-993690dcbb75"
      },
      "execution_count": null,
      "outputs": [
        {
          "output_type": "stream",
          "name": "stdout",
          "text": [
            "[]\n"
          ]
        }
      ]
    },
    {
      "cell_type": "code",
      "source": [
        "Listx.clear()"
      ],
      "metadata": {
        "id": "gFkEI9UMn9WW"
      },
      "execution_count": null,
      "outputs": []
    },
    {
      "cell_type": "code",
      "source": [
        "fruit.sort(re)\n"
      ],
      "metadata": {
        "colab": {
          "base_uri": "https://localhost:8080/",
          "height": 165
        },
        "id": "U7kmDjrBoF_w",
        "outputId": "79366b82-db03-4c78-9702-8ac37cc1ca33"
      },
      "execution_count": null,
      "outputs": [
        {
          "output_type": "error",
          "ename": "TypeError",
          "evalue": "ignored",
          "traceback": [
            "\u001b[0;31m---------------------------------------------------------------------------\u001b[0m",
            "\u001b[0;31mTypeError\u001b[0m                                 Traceback (most recent call last)",
            "\u001b[0;32m<ipython-input-83-c595a8d014ab>\u001b[0m in \u001b[0;36m<module>\u001b[0;34m()\u001b[0m\n\u001b[0;32m----> 1\u001b[0;31m \u001b[0mfruit\u001b[0m\u001b[0;34m.\u001b[0m\u001b[0msort\u001b[0m\u001b[0;34m(\u001b[0m\u001b[0;34m)\u001b[0m\u001b[0;34m\u001b[0m\u001b[0;34m\u001b[0m\u001b[0m\n\u001b[0m",
            "\u001b[0;31mTypeError\u001b[0m: '<' not supported between instances of 'list' and 'str'"
          ]
        }
      ]
    },
    {
      "cell_type": "code",
      "source": [
        "print(24%2)"
      ],
      "metadata": {
        "colab": {
          "base_uri": "https://localhost:8080/"
        },
        "id": "7zSZWViQlyTI",
        "outputId": "0a729b5f-a351-450e-9ec1-1f02a6acb3dd"
      },
      "execution_count": null,
      "outputs": [
        {
          "output_type": "stream",
          "name": "stdout",
          "text": [
            "0\n"
          ]
        }
      ]
    },
    {
      "cell_type": "markdown",
      "source": [
        "**ASSIGNMENT - 03/04/2022**"
      ],
      "metadata": {
        "id": "GX9fV8wLt0ST"
      }
    },
    {
      "cell_type": "code",
      "source": [
        "phone_book = []\n",
        "\n",
        "phone_book = [['Nandini', '6195190343', 'nanmanay@gmail.com'],\n",
        "['Arun', '6174629415', 'arun@gmail.com'],\n",
        "['Vivaan', '6195190333', 'viv@yahoo.com'],\n",
        "['Aanav', '6174629455', 'aanav@gmail.com']]\n",
        "#print(phone_book)"
      ],
      "metadata": {
        "id": "_u-8W8Gir3Zc"
      },
      "execution_count": null,
      "outputs": []
    },
    {
      "cell_type": "code",
      "source": [
        "print(phone_book)"
      ],
      "metadata": {
        "colab": {
          "base_uri": "https://localhost:8080/"
        },
        "id": "usA4Gh1nr5aJ",
        "outputId": "eb044ab2-600b-4a4b-c15c-f5c5d45c641e"
      },
      "execution_count": null,
      "outputs": [
        {
          "output_type": "stream",
          "name": "stdout",
          "text": [
            "[['Nandini', '6195190343', 'nanmanay@gmail.com'], ['Arun', '6174629415', 'arun@gmail.com'], ['Vivaan', '6195190333', 'viv@yahoo.com'], ['Aanav', '6174629455', 'aanav@gmail.com']]\n"
          ]
        }
      ]
    },
    {
      "cell_type": "code",
      "source": [
        "4#N = input()\n",
        "#print(N)\n",
        "\n",
        "\n",
        "#lst = [input() for i in input()]\n",
        "#print(lst)\n",
        "\n",
        "print(\"Phone Book\")\n",
        "print(\"Enter 1 to add to the phone book\")\n",
        "print(\"Enter 2 to delete and entry from the phone book\")\n",
        "print(\"Enter 3 to display all the entries in the phone book\")\n",
        "print(\"Enter 4 to find an entry in the phone book based on name\")\n",
        "\n",
        "N = input()\n",
        "#phone_book = []\n",
        "\n",
        "#phone_book = [['Nandini', '6195190343', 'nanmanay@gmail.com'],\n",
        "#['Arun', '6174629415', 'arun@gmail.com'],\n",
        "#['Vivaan', '6195190333', 'viv@yahoo.com'],\n",
        "#['Aanav', '6174629455', 'aanav@gmail.com']]\n",
        "#print(phone_book)\n",
        "\n",
        "if int(N) == 1:\n",
        "    print(\"Entered 1 - Adding to the phone book\")\n",
        "    print(\"Enter Name, phone, email. Enter 0 to exit\")\n",
        "    while True:\n",
        "        lst = input().split()\n",
        "        #print(phone_book)\n",
        "        if(\"0\" not in lst):\n",
        "            phone_book.append(lst)\n",
        "            #print(\" \".join(phone_book))\n",
        "            #print(phone_book)\n",
        "        else:\n",
        "            break\n",
        "elif int(N) == 2:\n",
        "    print(\"Entered 2 - Deleting entry from phone book\")\n",
        "    print(\"Enter name to delete\")\n",
        "    name = input()\n",
        "    #print(name)\n",
        "    found = False\n",
        "    for i in range(len(phone_book)):\n",
        "        if phone_book[i][0] == name:\n",
        "            found = True\n",
        "            phone_book.pop(i)\n",
        "            break\n",
        "    print(phone_book)\n",
        "    if not found:\n",
        "        print(\"No entry found\")\n",
        "elif int(N) == 3:\n",
        "    print(\"Entered 3 - Display all\")\n",
        "    print(\"\".join(\"Name Phone Email\"))\n",
        "    for i in range(len(phone_book)):\n",
        "        print(\" \".join(phone_book[i]))\n",
        "elif int(N) == 4:\n",
        "        print(\"Entered 4 - Find an entry in the phone book based on name\")\n",
        "        print(\"Enter name to lookup\")\n",
        "        name = input()\n",
        "        found = False\n",
        "        for i in range(len(phone_book)):\n",
        "            if phone_book[i][0] == name:\n",
        "                print(\" \".join(phone_book[i]))\n",
        "                found = True\n",
        "                break\n",
        "        if not found:\n",
        "            print(\"No entry found\")\n",
        "               \n",
        "\n",
        "    "
      ],
      "metadata": {
        "colab": {
          "base_uri": "https://localhost:8080/"
        },
        "id": "LACtKp4Cty0U",
        "outputId": "25945cd6-53ce-4dcc-8cd3-18b8ef86a4ef"
      },
      "execution_count": null,
      "outputs": [
        {
          "name": "stdout",
          "output_type": "stream",
          "text": [
            "Phone Book\n",
            "Enter 1 to add to the phone book\n",
            "Enter 2 to delete and entry from the phone book\n",
            "Enter 3 to display all the entries in the phone book\n",
            "Enter 4 to find an entry in the phone book based on name\n",
            "1\n",
            "Entered 1 - Adding to the phone book\n",
            "Enter Name, phone, email. Enter 0 to exit\n",
            "Poonam \n",
            "\n",
            "Sag 53 kjshd\n",
            "0\n"
          ]
        }
      ]
    },
    {
      "cell_type": "code",
      "source": [
        "print(phone_book)"
      ],
      "metadata": {
        "colab": {
          "base_uri": "https://localhost:8080/"
        },
        "id": "rl0elXdVuQSF",
        "outputId": "65c863c5-e660-4c28-95fa-d43bca4e65aa"
      },
      "execution_count": null,
      "outputs": [
        {
          "output_type": "stream",
          "name": "stdout",
          "text": [
            "[['Nandini', '6195190343', 'nanmanay@gmail.com'], ['Arun', '6174629415', 'arun@gmail.com'], ['Vivaan', '6195190333', 'viv@yahoo.com'], ['Aanav', '6174629455', 'aanav@gmail.com'], ['Poonam'], [], ['Sag', '53', 'kjshd']]\n"
          ]
        }
      ]
    },
    {
      "cell_type": "code",
      "source": [
        "a = \"   Hello Aanav   \""
      ],
      "metadata": {
        "id": "ulev6dm2uULB"
      },
      "execution_count": null,
      "outputs": []
    },
    {
      "cell_type": "code",
      "source": [
        "print(a.strip())"
      ],
      "metadata": {
        "colab": {
          "base_uri": "https://localhost:8080/"
        },
        "id": "GG0p-HLonSME",
        "outputId": "932da90b-22b6-47c7-97c2-bbdd451f361c"
      },
      "execution_count": null,
      "outputs": [
        {
          "output_type": "stream",
          "name": "stdout",
          "text": [
            "Hello Aanav\n"
          ]
        }
      ]
    },
    {
      "cell_type": "code",
      "source": [
        "print(a.split())"
      ],
      "metadata": {
        "colab": {
          "base_uri": "https://localhost:8080/"
        },
        "id": "qad66TmBnWHa",
        "outputId": "47cb7f5d-c2a2-481e-fa20-dad7b95b5e2e"
      },
      "execution_count": null,
      "outputs": [
        {
          "output_type": "stream",
          "name": "stdout",
          "text": [
            "['Hello', 'Aanav']\n"
          ]
        }
      ]
    },
    {
      "cell_type": "code",
      "source": [
        "d1 = {1:\"apple\",2:\"ipad\"}"
      ],
      "metadata": {
        "id": "3xOXWObBo3xM"
      },
      "execution_count": null,
      "outputs": []
    },
    {
      "cell_type": "code",
      "source": [
        "print(d1)"
      ],
      "metadata": {
        "colab": {
          "base_uri": "https://localhost:8080/"
        },
        "id": "jTDBwLdeo98W",
        "outputId": "e160971e-cbc0-49e1-c7cf-7a43c0818766"
      },
      "execution_count": null,
      "outputs": [
        {
          "output_type": "stream",
          "name": "stdout",
          "text": [
            "{1: 'apple', 2: 'ipad'}\n"
          ]
        }
      ]
    },
    {
      "cell_type": "code",
      "source": [
        "d2 = {'name': \"Nandini\", 2 : [1,2,3]}"
      ],
      "metadata": {
        "id": "DjBPIIZNpLOP"
      },
      "execution_count": null,
      "outputs": []
    },
    {
      "cell_type": "code",
      "source": [
        "print(d2)"
      ],
      "metadata": {
        "colab": {
          "base_uri": "https://localhost:8080/"
        },
        "id": "Ck2Vu5-ipuPF",
        "outputId": "f1273eda-318c-46e9-834f-1afffc064057"
      },
      "execution_count": null,
      "outputs": [
        {
          "output_type": "stream",
          "name": "stdout",
          "text": [
            "{'name': 'Bala', 2: [1, 2, 3], 'address': '123 husg ln'}\n"
          ]
        }
      ]
    },
    {
      "cell_type": "code",
      "source": [
        "d2['name'] = 'Bala'"
      ],
      "metadata": {
        "id": "TarEsQ-QqKMB"
      },
      "execution_count": null,
      "outputs": []
    },
    {
      "cell_type": "code",
      "source": [
        "d2['address'] = '123 husg ln'"
      ],
      "metadata": {
        "id": "EHDWDQcwqfVy"
      },
      "execution_count": null,
      "outputs": []
    },
    {
      "cell_type": "code",
      "source": [
        "squares = {1:1, 2:4, 3:9 , 4:16, 5:2}"
      ],
      "metadata": {
        "id": "XNEKBBQ7rfGN"
      },
      "execution_count": null,
      "outputs": []
    },
    {
      "cell_type": "code",
      "source": [
        "print(squares)"
      ],
      "metadata": {
        "colab": {
          "base_uri": "https://localhost:8080/"
        },
        "id": "elnAeLsors-3",
        "outputId": "8a4cfcfe-00d2-4630-98f9-427b60793fc3"
      },
      "execution_count": null,
      "outputs": [
        {
          "output_type": "stream",
          "name": "stdout",
          "text": [
            "{1: 1, 3: 9, 5: 2}\n"
          ]
        }
      ]
    },
    {
      "cell_type": "code",
      "source": [
        "print(squares.pop(4))"
      ],
      "metadata": {
        "colab": {
          "base_uri": "https://localhost:8080/",
          "height": 165
        },
        "id": "4e2lK8BZrvyG",
        "outputId": "f8949558-cf3d-48d8-ee56-d3d5aacfa50f"
      },
      "execution_count": null,
      "outputs": [
        {
          "output_type": "error",
          "ename": "KeyError",
          "evalue": "ignored",
          "traceback": [
            "\u001b[0;31m---------------------------------------------------------------------------\u001b[0m",
            "\u001b[0;31mKeyError\u001b[0m                                  Traceback (most recent call last)",
            "\u001b[0;32m<ipython-input-38-fdbd376d5c5c>\u001b[0m in \u001b[0;36m<module>\u001b[0;34m()\u001b[0m\n\u001b[0;32m----> 1\u001b[0;31m \u001b[0mprint\u001b[0m\u001b[0;34m(\u001b[0m\u001b[0msquares\u001b[0m\u001b[0;34m.\u001b[0m\u001b[0mpop\u001b[0m\u001b[0;34m(\u001b[0m\u001b[0;36m4\u001b[0m\u001b[0;34m)\u001b[0m\u001b[0;34m)\u001b[0m\u001b[0;34m\u001b[0m\u001b[0;34m\u001b[0m\u001b[0m\n\u001b[0m",
            "\u001b[0;31mKeyError\u001b[0m: 4"
          ]
        }
      ]
    },
    {
      "cell_type": "code",
      "source": [
        "del squares[2]"
      ],
      "metadata": {
        "colab": {
          "base_uri": "https://localhost:8080/",
          "height": 165
        },
        "id": "OdMOTVJ9sFoG",
        "outputId": "f325cdba-a02c-4bea-808d-09fc9a5dfcfa"
      },
      "execution_count": null,
      "outputs": [
        {
          "output_type": "error",
          "ename": "KeyError",
          "evalue": "ignored",
          "traceback": [
            "\u001b[0;31m---------------------------------------------------------------------------\u001b[0m",
            "\u001b[0;31mKeyError\u001b[0m                                  Traceback (most recent call last)",
            "\u001b[0;32m<ipython-input-43-61e7c2bb634c>\u001b[0m in \u001b[0;36m<module>\u001b[0;34m()\u001b[0m\n\u001b[0;32m----> 1\u001b[0;31m \u001b[0;32mdel\u001b[0m \u001b[0msquares\u001b[0m\u001b[0;34m[\u001b[0m\u001b[0;36m2\u001b[0m\u001b[0;34m]\u001b[0m\u001b[0;34m\u001b[0m\u001b[0;34m\u001b[0m\u001b[0m\n\u001b[0m",
            "\u001b[0;31mKeyError\u001b[0m: 2"
          ]
        }
      ]
    },
    {
      "cell_type": "code",
      "source": [
        "def hello():\n",
        "    print(\"Hello World!\")\n",
        "    print(\"guvi\")"
      ],
      "metadata": {
        "id": "-9XszPiRsfig"
      },
      "execution_count": null,
      "outputs": []
    },
    {
      "cell_type": "code",
      "source": [
        "def greet(name):\n",
        "    return (\"Hello, \" + name + \". Good morning!\")"
      ],
      "metadata": {
        "id": "Ey10V9MPvedK"
      },
      "execution_count": null,
      "outputs": []
    },
    {
      "cell_type": "code",
      "source": [
        "greet('Nandini')"
      ],
      "metadata": {
        "colab": {
          "base_uri": "https://localhost:8080/",
          "height": 35
        },
        "id": "-vZCRdHgwDGj",
        "outputId": "fcb8e885-e330-4e05-b6d0-49fb42c6b56b"
      },
      "execution_count": null,
      "outputs": [
        {
          "output_type": "execute_result",
          "data": {
            "application/vnd.google.colaboratory.intrinsic+json": {
              "type": "string"
            },
            "text/plain": [
              "'Hello, Nandini. Good morning!'"
            ]
          },
          "metadata": {},
          "execution_count": 60
        }
      ]
    },
    {
      "cell_type": "code",
      "source": [
        "def calc(x,y,z):\n",
        "    if z == \"add\":\n",
        "        result = x + y\n",
        "    if z == \"subtract\":\n",
        "        result = x - y\n",
        "    if z == \"multiply\":\n",
        "        result = x*y\n",
        "    if z == \"division\":\n",
        "        result = x/y\n",
        "\n",
        "    return result\n",
        "\n",
        "\n",
        "\n"
      ],
      "metadata": {
        "id": "LWKnYTvWwLQD"
      },
      "execution_count": null,
      "outputs": []
    },
    {
      "cell_type": "code",
      "source": [
        "calc(2,3,\"division\")"
      ],
      "metadata": {
        "colab": {
          "base_uri": "https://localhost:8080/"
        },
        "id": "gU0yL-fTxHRO",
        "outputId": "1f26c258-e5f7-4e1b-8a71-2e4b33c527b4"
      },
      "execution_count": null,
      "outputs": [
        {
          "output_type": "execute_result",
          "data": {
            "text/plain": [
              "0.6666666666666666"
            ]
          },
          "metadata": {},
          "execution_count": 86
        }
      ]
    },
    {
      "cell_type": "code",
      "source": [
        "def my_func():\n",
        "    x = 10\n",
        "    print(x)"
      ],
      "metadata": {
        "id": "knz0uarlzJ5p"
      },
      "execution_count": null,
      "outputs": []
    },
    {
      "cell_type": "code",
      "source": [
        "my_func()"
      ],
      "metadata": {
        "colab": {
          "base_uri": "https://localhost:8080/"
        },
        "id": "pfSOEmZpzm_Z",
        "outputId": "bbfe5c4a-b756-47c5-be73-8335073ba650"
      },
      "execution_count": null,
      "outputs": [
        {
          "output_type": "stream",
          "name": "stdout",
          "text": [
            "10\n"
          ]
        }
      ]
    },
    {
      "cell_type": "code",
      "source": [
        "x = 20\n",
        "my_func()\n",
        "print(x)"
      ],
      "metadata": {
        "colab": {
          "base_uri": "https://localhost:8080/"
        },
        "id": "eD7T5ZbUzu4h",
        "outputId": "8b48f423-f2b9-4b7e-963d-b8093777a3df"
      },
      "execution_count": null,
      "outputs": [
        {
          "output_type": "stream",
          "name": "stdout",
          "text": [
            "10\n",
            "20\n"
          ]
        }
      ]
    },
    {
      "cell_type": "code",
      "source": [
        "x = \"guvi\"\n",
        "def foo():\n",
        "    print(x)\n",
        "\n",
        "foo()\n",
        "print(x)"
      ],
      "metadata": {
        "colab": {
          "base_uri": "https://localhost:8080/"
        },
        "id": "ql60W1-Mz6aL",
        "outputId": "438d5399-6b88-45a0-9eeb-6f826cf6083c"
      },
      "execution_count": null,
      "outputs": [
        {
          "output_type": "stream",
          "name": "stdout",
          "text": [
            "guvi\n",
            "guvi\n"
          ]
        }
      ]
    },
    {
      "cell_type": "code",
      "source": [
        "x= \"global\"\n",
        "\n",
        "def foo():\n",
        "    global x\n",
        "    x = x*2\n",
        "    print(x)\n",
        "\n",
        "print(x)\n",
        "foo()\n",
        "print(x)"
      ],
      "metadata": {
        "colab": {
          "base_uri": "https://localhost:8080/"
        },
        "id": "CXYjl8oS05TZ",
        "outputId": "c65eae1f-86a9-47bb-e2e9-5b863d95a6ff"
      },
      "execution_count": null,
      "outputs": [
        {
          "output_type": "stream",
          "name": "stdout",
          "text": [
            "global\n",
            "globalglobal\n",
            "globalglobal\n"
          ]
        }
      ]
    },
    {
      "cell_type": "code",
      "source": [
        "def myfunc(*argv):\n",
        "    print(*argv)"
      ],
      "metadata": {
        "id": "sqEhWSxA3eHc"
      },
      "execution_count": null,
      "outputs": []
    },
    {
      "cell_type": "code",
      "source": [
        "myfunc(\"Hello\",\"Nandini\")"
      ],
      "metadata": {
        "colab": {
          "base_uri": "https://localhost:8080/"
        },
        "id": "YnXiJHR44qR7",
        "outputId": "13a7cd10-1319-4d90-b2fa-f660dcbf8e83"
      },
      "execution_count": null,
      "outputs": [
        {
          "output_type": "stream",
          "name": "stdout",
          "text": [
            "Hello Nandini\n"
          ]
        }
      ]
    },
    {
      "cell_type": "code",
      "source": [
        "def myFun(**kwargs):\n",
        "    for key,value in kwargs.items():\n",
        "        print(\"%s == %s\" %(key,value))\n",
        "        "
      ],
      "metadata": {
        "id": "h6mT2grR5iWw"
      },
      "execution_count": null,
      "outputs": []
    },
    {
      "cell_type": "code",
      "source": [
        "myFun(first = \"hello\", mid = \"goodr\", last = 'morning')"
      ],
      "metadata": {
        "colab": {
          "base_uri": "https://localhost:8080/",
          "height": 165
        },
        "id": "vnNid0qn6MSk",
        "outputId": "a77350c7-bf1e-43a5-faa8-b57814da8deb"
      },
      "execution_count": null,
      "outputs": [
        {
          "output_type": "error",
          "ename": "NameError",
          "evalue": "ignored",
          "traceback": [
            "\u001b[0;31m---------------------------------------------------------------------------\u001b[0m",
            "\u001b[0;31mNameError\u001b[0m                                 Traceback (most recent call last)",
            "\u001b[0;32m<ipython-input-1-72783a5f84ff>\u001b[0m in \u001b[0;36m<module>\u001b[0;34m()\u001b[0m\n\u001b[0;32m----> 1\u001b[0;31m \u001b[0mmyFun\u001b[0m\u001b[0;34m(\u001b[0m\u001b[0mfirst\u001b[0m \u001b[0;34m=\u001b[0m \u001b[0;34m\"hello\"\u001b[0m\u001b[0;34m,\u001b[0m \u001b[0mmid\u001b[0m \u001b[0;34m=\u001b[0m \u001b[0;34m\"goodr\"\u001b[0m\u001b[0;34m,\u001b[0m \u001b[0mlast\u001b[0m \u001b[0;34m=\u001b[0m \u001b[0;34m'morning'\u001b[0m\u001b[0;34m)\u001b[0m\u001b[0;34m\u001b[0m\u001b[0;34m\u001b[0m\u001b[0m\n\u001b[0m",
            "\u001b[0;31mNameError\u001b[0m: name 'myFun' is not defined"
          ]
        }
      ]
    },
    {
      "cell_type": "code",
      "source": [
        "x = lambda a:a+10\n",
        "print(x(5))"
      ],
      "metadata": {
        "colab": {
          "base_uri": "https://localhost:8080/"
        },
        "id": "kUDox0DaP1dG",
        "outputId": "7dc5fc44-4c93-4195-d4b9-80a39d5dfcad"
      },
      "execution_count": null,
      "outputs": [
        {
          "output_type": "stream",
          "name": "stdout",
          "text": [
            "15\n"
          ]
        }
      ]
    },
    {
      "cell_type": "code",
      "source": [
        "x = lambda a,b:a ** b\n",
        "print(x(5,2))\n"
      ],
      "metadata": {
        "colab": {
          "base_uri": "https://localhost:8080/"
        },
        "id": "MygnjQ9-P8up",
        "outputId": "3f9cbcfc-bda6-4573-d815-4caa4b83bfb7"
      },
      "execution_count": null,
      "outputs": [
        {
          "output_type": "stream",
          "name": "stdout",
          "text": [
            "25\n"
          ]
        }
      ]
    },
    {
      "cell_type": "code",
      "source": [
        "def myfunc(n):\n",
        "    return lambda a : a*n"
      ],
      "metadata": {
        "id": "ynIxr28SSYuF"
      },
      "execution_count": null,
      "outputs": []
    },
    {
      "cell_type": "code",
      "source": [
        "mydoubler = myfunc(2)"
      ],
      "metadata": {
        "id": "dtg7zjEnUKav"
      },
      "execution_count": null,
      "outputs": []
    },
    {
      "cell_type": "code",
      "source": [
        "print(mydoubler(11))"
      ],
      "metadata": {
        "colab": {
          "base_uri": "https://localhost:8080/"
        },
        "id": "WVppduVjUP_p",
        "outputId": "0f4a4e7b-944d-468d-aa0a-766c19844f18"
      },
      "execution_count": null,
      "outputs": [
        {
          "output_type": "stream",
          "name": "stdout",
          "text": [
            "22\n"
          ]
        }
      ]
    },
    {
      "cell_type": "code",
      "source": [
        "ages = [5, 12, 17, 18, 24, 32]"
      ],
      "metadata": {
        "id": "9re6DtySUWhP"
      },
      "execution_count": null,
      "outputs": []
    },
    {
      "cell_type": "code",
      "source": [
        "def adult(x):\n",
        "    if x < 18:\n",
        "        return False\n",
        "    else:\n",
        "        return True"
      ],
      "metadata": {
        "id": "8f00LD4FYtUJ"
      },
      "execution_count": null,
      "outputs": []
    },
    {
      "cell_type": "code",
      "source": [
        "adults = filter(adult, ages)"
      ],
      "metadata": {
        "id": "Qs_bcGXyY3C1"
      },
      "execution_count": null,
      "outputs": []
    },
    {
      "cell_type": "code",
      "source": [
        "for x in adult:\n",
        "    print(x)"
      ],
      "metadata": {
        "colab": {
          "base_uri": "https://localhost:8080/"
        },
        "id": "2VC4VN0BY8bG",
        "outputId": "0b9cd02a-38b5-4973-85cc-e273c75b72d4"
      },
      "execution_count": null,
      "outputs": [
        {
          "output_type": "stream",
          "name": "stdout",
          "text": [
            "18\n",
            "24\n",
            "32\n"
          ]
        }
      ]
    },
    {
      "cell_type": "code",
      "source": [
        "adult = filter(lambda x:True if(x >=18) else False, ages)"
      ],
      "metadata": {
        "id": "gimlMajxabPo"
      },
      "execution_count": null,
      "outputs": []
    },
    {
      "cell_type": "code",
      "source": [
        "print(adult)"
      ],
      "metadata": {
        "colab": {
          "base_uri": "https://localhost:8080/"
        },
        "id": "Xs8SfO5YbDbD",
        "outputId": "2c49a8bd-6d4e-476b-fc85-331366eaf1aa"
      },
      "execution_count": null,
      "outputs": [
        {
          "output_type": "stream",
          "name": "stdout",
          "text": [
            "<filter object at 0x7f4462f615d0>\n"
          ]
        }
      ]
    },
    {
      "cell_type": "code",
      "source": [
        "seq = [0, 1, 2, 3, 5, 8, 13]"
      ],
      "metadata": {
        "id": "_86ksC7MbMpd"
      },
      "execution_count": null,
      "outputs": []
    },
    {
      "cell_type": "code",
      "source": [
        "result = filter(lambda x: x%2 != 0, seq)"
      ],
      "metadata": {
        "id": "SDEvwC_wboSH"
      },
      "execution_count": null,
      "outputs": []
    },
    {
      "cell_type": "code",
      "source": [
        "print(list(result))"
      ],
      "metadata": {
        "colab": {
          "base_uri": "https://localhost:8080/"
        },
        "id": "5MmBoiY8bwoa",
        "outputId": "517223e1-06f4-4411-ac1b-eb037b897609"
      },
      "execution_count": null,
      "outputs": [
        {
          "output_type": "stream",
          "name": "stdout",
          "text": [
            "[]\n"
          ]
        }
      ]
    },
    {
      "cell_type": "code",
      "source": [
        "result = filter(lambda x:x%2 == 0, seq)"
      ],
      "metadata": {
        "id": "Rupymb3cb0Rx"
      },
      "execution_count": null,
      "outputs": []
    },
    {
      "cell_type": "code",
      "source": [
        "print(list(result))"
      ],
      "metadata": {
        "colab": {
          "base_uri": "https://localhost:8080/"
        },
        "id": "xvG8VBNnb7l-",
        "outputId": "eead5f92-9f78-408d-f024-1ba9ea3d035a"
      },
      "execution_count": null,
      "outputs": [
        {
          "output_type": "stream",
          "name": "stdout",
          "text": [
            "[]\n"
          ]
        }
      ]
    },
    {
      "cell_type": "code",
      "source": [
        "x = map(lambda a:a.upper(), ('cat','elephant','cherry'))"
      ],
      "metadata": {
        "id": "XXQqkUAlcAxY"
      },
      "execution_count": null,
      "outputs": []
    },
    {
      "cell_type": "code",
      "source": [
        "def myfunc(a, b):\n",
        "    return a + b"
      ],
      "metadata": {
        "id": "7Z-UO5UBde0T"
      },
      "execution_count": null,
      "outputs": []
    },
    {
      "cell_type": "code",
      "source": [
        "x = map(lambda a:a.upper(), (1,2,3))"
      ],
      "metadata": {
        "id": "OVw4ZT0QdkGK"
      },
      "execution_count": null,
      "outputs": []
    },
    {
      "cell_type": "code",
      "source": [
        "x = map((lambda a,b:a+b), ('rajni', 'kamal', 'thala'),('kanth', 'hasan', 'thalapathy'))"
      ],
      "metadata": {
        "id": "Q9tDk6h8dvJb"
      },
      "execution_count": null,
      "outputs": []
    },
    {
      "cell_type": "code",
      "source": [
        "print(list(x))"
      ],
      "metadata": {
        "colab": {
          "base_uri": "https://localhost:8080/"
        },
        "id": "efIJUPngfaNv",
        "outputId": "b5d7cd51-1f87-4529-8bb9-fa16f659d474"
      },
      "execution_count": null,
      "outputs": [
        {
          "output_type": "stream",
          "name": "stdout",
          "text": [
            "[]\n"
          ]
        }
      ]
    },
    {
      "cell_type": "code",
      "source": [
        "class person:\n",
        "    x = \"guvi\""
      ],
      "metadata": {
        "id": "LmAAhE_EgCRU"
      },
      "execution_count": null,
      "outputs": []
    },
    {
      "cell_type": "code",
      "source": [
        "a = person()\n",
        "print(a.x)"
      ],
      "metadata": {
        "colab": {
          "base_uri": "https://localhost:8080/"
        },
        "id": "g2IETwVJTKLJ",
        "outputId": "d37c9ae3-74a4-45bc-d6f1-169deb3371aa"
      },
      "execution_count": null,
      "outputs": [
        {
          "output_type": "stream",
          "name": "stdout",
          "text": [
            "guvi\n"
          ]
        }
      ]
    },
    {
      "cell_type": "code",
      "source": [
        "class d27:\n",
        "    def __init__(self,fname,lname):\n",
        "        self.f1 = fname\n",
        "        self.s1 = lname\n",
        "\n",
        "    def mt(self,name):\n",
        "        print(\"hello \"+ self.f1 + \" and \" + name)"
      ],
      "metadata": {
        "id": "I5C-pjrsTR6w"
      },
      "execution_count": null,
      "outputs": []
    },
    {
      "cell_type": "code",
      "source": [
        "a = d27(\"nandini\",\"manay\")\n",
        "print(a.f1)\n",
        "print(a.s1)\n",
        "a.mt(\"bond\")\n"
      ],
      "metadata": {
        "colab": {
          "base_uri": "https://localhost:8080/"
        },
        "id": "6Az767uHWsEs",
        "outputId": "cab098ec-9919-4687-e6f8-50bdd55aa9e1"
      },
      "execution_count": null,
      "outputs": [
        {
          "output_type": "stream",
          "name": "stdout",
          "text": [
            "nandini\n",
            "manay\n",
            "hello nandini and bond\n"
          ]
        }
      ]
    },
    {
      "cell_type": "code",
      "source": [
        "!rmdir nan"
      ],
      "metadata": {
        "colab": {
          "base_uri": "https://localhost:8080/"
        },
        "id": "__UlbEXvW58L",
        "outputId": "5f5703f0-e794-4510-a889-b7e540f25be6"
      },
      "execution_count": null,
      "outputs": [
        {
          "output_type": "stream",
          "name": "stdout",
          "text": [
            "rmdir: failed to remove 'nan': No such file or directory\n"
          ]
        }
      ]
    },
    {
      "cell_type": "code",
      "source": [
        "import os\n",
        "os.mkdir(\"datascience\")"
      ],
      "metadata": {
        "id": "cLKY-McozSzn"
      },
      "execution_count": null,
      "outputs": []
    },
    {
      "cell_type": "code",
      "source": [
        "os.rename(\"datascience\",\"ds\")"
      ],
      "metadata": {
        "id": "tly_RI1Qzg1t"
      },
      "execution_count": null,
      "outputs": []
    },
    {
      "cell_type": "code",
      "source": [
        "os.rmdir(\"ds\")"
      ],
      "metadata": {
        "id": "-s5Yk1wCzo8X"
      },
      "execution_count": null,
      "outputs": []
    },
    {
      "cell_type": "code",
      "source": [
        "os.chdir(\"datascience\")"
      ],
      "metadata": {
        "id": "_A59WQQZzv8Z"
      },
      "execution_count": null,
      "outputs": []
    },
    {
      "cell_type": "code",
      "source": [
        "os.mkdir(\"guvi\")"
      ],
      "metadata": {
        "id": "C-LhfJwS1EeV"
      },
      "execution_count": null,
      "outputs": []
    },
    {
      "cell_type": "code",
      "source": [
        "os.chdir(\"guvi\")"
      ],
      "metadata": {
        "id": "ncn-cX4d1MCr"
      },
      "execution_count": null,
      "outputs": []
    },
    {
      "cell_type": "code",
      "source": [
        "os.mkdir(\"nirmal\")"
      ],
      "metadata": {
        "id": "gh2LZITz1QSK"
      },
      "execution_count": null,
      "outputs": []
    },
    {
      "cell_type": "code",
      "source": [
        "os.chdir(\"nirmal\")"
      ],
      "metadata": {
        "id": "Voni9dYH1Ybv"
      },
      "execution_count": null,
      "outputs": []
    },
    {
      "cell_type": "code",
      "source": [
        "file1=open(\"nirmal.py\",\"x\")"
      ],
      "metadata": {
        "id": "CQanOst11a_8"
      },
      "execution_count": null,
      "outputs": []
    },
    {
      "cell_type": "code",
      "source": [
        "file1=open(\"guvi.txt\",\"w\")"
      ],
      "metadata": {
        "id": "3UU866LN2eXj"
      },
      "execution_count": null,
      "outputs": []
    },
    {
      "cell_type": "code",
      "source": [
        "file1 = open(\"guvi.txt\",\"a\")\n",
        "file1.write(\"12335\")\n",
        "file1.close()"
      ],
      "metadata": {
        "id": "WhFiW5sl2p5d"
      },
      "execution_count": null,
      "outputs": []
    },
    {
      "cell_type": "code",
      "source": [
        "file1=open(\"nirmal.txt\",\"w\")"
      ],
      "metadata": {
        "id": "9Cvkiqm26SmO"
      },
      "execution_count": null,
      "outputs": []
    },
    {
      "cell_type": "code",
      "source": [
        "text = [\"first line \\t\",\"second lin \\n\", \"third line\"]"
      ],
      "metadata": {
        "id": "_M1gdGXe6YBR"
      },
      "execution_count": null,
      "outputs": []
    },
    {
      "cell_type": "code",
      "source": [
        "file1.writelines(text)"
      ],
      "metadata": {
        "id": "RlbZ61qs6jU2"
      },
      "execution_count": null,
      "outputs": []
    },
    {
      "cell_type": "code",
      "source": [
        "file1 = open(\"nirmal.txt\",\"r\")"
      ],
      "metadata": {
        "id": "DwSQ8lZw6qne"
      },
      "execution_count": null,
      "outputs": []
    },
    {
      "cell_type": "code",
      "source": [
        "print(file1.read())"
      ],
      "metadata": {
        "colab": {
          "base_uri": "https://localhost:8080/"
        },
        "id": "Fi-t7P4z6-Y8",
        "outputId": "68b502c6-0140-4cbc-aca6-d63759a603bc"
      },
      "execution_count": null,
      "outputs": [
        {
          "output_type": "stream",
          "name": "stdout",
          "text": [
            "first line \tsecond lin \n",
            "third line\n"
          ]
        }
      ]
    },
    {
      "cell_type": "code",
      "source": [
        "file1.close()"
      ],
      "metadata": {
        "id": "iXlvZime7BDo"
      },
      "execution_count": null,
      "outputs": []
    },
    {
      "cell_type": "code",
      "source": [
        "def funcs(a,b):\n",
        "    return a+b\n",
        "    "
      ],
      "metadata": {
        "id": "XF7zzt8w7CqT"
      },
      "execution_count": null,
      "outputs": []
    },
    {
      "cell_type": "code",
      "source": [
        "func = [funcs]"
      ],
      "metadata": {
        "id": "gUMrN5Nx7o55"
      },
      "execution_count": null,
      "outputs": []
    },
    {
      "cell_type": "code",
      "source": [
        "func[-1](2,3)"
      ],
      "metadata": {
        "colab": {
          "base_uri": "https://localhost:8080/"
        },
        "id": "sjZFFVJJ7y3c",
        "outputId": "2955981a-c3b5-4cbb-fce3-553bd9845a4f"
      },
      "execution_count": null,
      "outputs": [
        {
          "output_type": "execute_result",
          "data": {
            "text/plain": [
              "5"
            ]
          },
          "metadata": {},
          "execution_count": 12
        }
      ]
    },
    {
      "cell_type": "code",
      "source": [
        ""
      ],
      "metadata": {
        "id": "-zBMkIGdp1lq"
      },
      "execution_count": null,
      "outputs": []
    },
    {
      "cell_type": "code",
      "source": [
        ""
      ],
      "metadata": {
        "id": "E3TvHHaKFBgy"
      },
      "execution_count": null,
      "outputs": []
    },
    {
      "cell_type": "code",
      "source": [
        "print(\"1) Enter 1 to Register a new account\\n2) Enter 2 to Login\\n3) Enter 3 if you forgot password\")\n",
        "x = int(input(\"Enter your choice:\"))\n",
        "#print(x)\n",
        "import re\n",
        "\n",
        "\n",
        "if x == 1:\n",
        "    print(\"Register\")\n",
        "    while True:\n",
        "        print(\"Enter email as your username:\")\n",
        "        username = input()\n",
        "\n",
        "        \n",
        "        username_regex = re.compile(r\"^[A-Za-z0-9_.]+@[A-Za-z]+\\.[A-Z|a-z]\")\n",
        "        if username_regex.match(username):\n",
        "            print(\"email address is valid\")\n",
        "            break\n",
        "        else:\n",
        "            print(\"Invalid email address\")\n",
        "  \n",
        "    while True:\n",
        "        print(\"Enter password:\")\n",
        "        password = input()\n",
        "        if (len(password) < 5 or len(password) > 16):\n",
        "            print(\"Not a Valid Password\")\n",
        "        elif not re.search(\"[a-z]\", password):\n",
        "            print(\"Not a Valid Password\")\n",
        "        elif not re.search(\"[A-Z]\", password):\n",
        "            print(\"Not a Valid Password\")\n",
        "        elif not re.search(\"[0-9]\", password):\n",
        "            print(\"Not a Valid Password\")\n",
        "        elif not re.search(\"[_@$&*#%]\", password):\n",
        "            print(\"Not a Valid Password\")\n",
        "        elif re.search(\"\\s\", password):\n",
        "            print(\"Not a Valid Password\")\n",
        "        else:\n",
        "            print(\"Valid Password\")\n",
        "            break\n",
        "\n",
        "        with open(\"accountfile.txt\", \"a+\") as file_object:\n",
        "            file_object.seek(0)\n",
        "            data = file_object.read(100)\n",
        "            if len(data) > 0:\n",
        "                file_object.write(\"\\n\")\n",
        "                file_object.write(username+ \" \"+password)\n",
        "\n",
        "elif x == 2:\n",
        "    print(\"Login\")\n",
        "    username = input(\"Enter your username:\")\n",
        "    password = input(\"Enter your password:\")  \n",
        "    for line in open(\"accountfile.txt\",\"r\").readlines(): \n",
        "        login_info = line.split() \n",
        "        found = 1   \n",
        "        if username == login_info[0] and password == login_info[1]:\n",
        "            found = 1\n",
        "            print(\"Correct credentials!\")\n",
        "            break\n",
        "        else:\n",
        "            found = 0\n",
        "        \n",
        "    if found == 0:   \n",
        "        print(\"Incorrect credentials, please register\")\n",
        "elif x == 3:\n",
        "    print(\"Retrieve password\")\n",
        "    username = input(\"Enter your username:\")   \n",
        "\n",
        "    for line in open(\"accountfile.txt\",\"r\").readlines(): \n",
        "        login_info = line.split() \n",
        "        found = 1   \n",
        "        if username == login_info[0]:\n",
        "            found = 1\n",
        "            print(login_info[1])\n",
        "            break\n",
        "        else:\n",
        "            found = 0\n",
        "        \n",
        "    if found == 0:   \n",
        "        print(\"Cannot find the username, please register\")\n",
        "else:\n",
        "    print(\"Invalid entry\")\n",
        "\n",
        "\n"
      ],
      "metadata": {
        "colab": {
          "base_uri": "https://localhost:8080/"
        },
        "id": "QUT8A9q274ia",
        "outputId": "a4c0819a-c64e-4e86-9408-500a8fafaa2a"
      },
      "execution_count": 19,
      "outputs": [
        {
          "output_type": "stream",
          "name": "stdout",
          "text": [
            "1) Enter 1 to Register a new account\n",
            "2) Enter 2 to Login\n",
            "3) Enter 3 if you forgot password\n",
            "Enter your choice:1\n",
            "Register\n",
            "Enter email as your username:\n",
            "email address is valid\n",
            "Enter password:\n",
            "yes@yahoo.com\n",
            "Not a Valid Password\n",
            "Enter password:\n",
            "Test123&\n",
            "Valid Password\n"
          ]
        }
      ]
    },
    {
      "cell_type": "code",
      "source": [
        "\n"
      ],
      "metadata": {
        "id": "iTDiBggPoZHG"
      },
      "execution_count": null,
      "outputs": []
    }
  ]
}